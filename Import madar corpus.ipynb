{
 "cells": [
  {
   "cell_type": "code",
   "execution_count": 1,
   "metadata": {},
   "outputs": [],
   "source": [
    "import os\n",
    "from nltk.corpus import PlaintextCorpusReader\n",
    "cwd = os.getcwd() # get directory\n",
    "corpus_root = cwd+'/madar/MADAR.Corpus6/' # set root of corpus\n",
    "wordlists = PlaintextCorpusReader(corpus_root, '.*') # get file ids\n",
    "wordlists.fileids() # print file ids\n",
    "beirut_corpus = wordlists.words('MADAR.corpus6.Beirut') # get specific file"
   ]
  }
 ],
 "metadata": {
  "kernelspec": {
   "display_name": "Python 3",
   "language": "python",
   "name": "python3"
  },
  "language_info": {
   "codemirror_mode": {
    "name": "ipython",
    "version": 3
   },
   "file_extension": ".py",
   "mimetype": "text/x-python",
   "name": "python",
   "nbconvert_exporter": "python",
   "pygments_lexer": "ipython3",
   "version": "3.6.5"
  }
 },
 "nbformat": 4,
 "nbformat_minor": 2
}
